{
 "cells": [
  {
   "cell_type": "code",
   "execution_count": 62,
   "id": "43bdb03a",
   "metadata": {},
   "outputs": [
    {
     "name": "stdout",
     "output_type": "stream",
     "text": [
      "insira o primeiro valor inteiro e positivo: 0\n",
      "insira o segundo valor inteiro e positivo: 1\n",
      "insira o terceiro valor inteiro e positivo: 2\n",
      "O valor da média dos dois maiores valores é: 1.5\n"
     ]
    }
   ],
   "source": [
    "x = int(input(\"insira o primeiro valor inteiro e positivo: \"))\n",
    "y = int(input(\"insira o segundo valor inteiro e positivo: \"))\n",
    "z = int(input(\"insira o terceiro valor inteiro e positivo: \"))\n",
    "media_1 = (x + y) / 2\n",
    "media_2 = (x + z) / 2\n",
    "media_3 = (y + z) / 2\n",
    "\n",
    "if (media_1 > media_2 and media_3):\n",
    "    print(f\"O valor da média dos dois maiores valores é: {media_1}\")\n",
    "    if (media_2 > media_1 and media_3):\n",
    "          print(f\"O valor da média dos dois maiores valores é: {media_2}\")\n",
    "else:\n",
    "    print(f\"O valor da média dos dois maiores valores é: {media_3}\")\n"
   ]
  },
  {
   "cell_type": "code",
   "execution_count": null,
   "id": "f17089c6",
   "metadata": {},
   "outputs": [],
   "source": []
  }
 ],
 "metadata": {
  "kernelspec": {
   "display_name": "Python 3 (ipykernel)",
   "language": "python",
   "name": "python3"
  },
  "language_info": {
   "codemirror_mode": {
    "name": "ipython",
    "version": 3
   },
   "file_extension": ".py",
   "mimetype": "text/x-python",
   "name": "python",
   "nbconvert_exporter": "python",
   "pygments_lexer": "ipython3",
   "version": "3.11.5"
  }
 },
 "nbformat": 4,
 "nbformat_minor": 5
}
